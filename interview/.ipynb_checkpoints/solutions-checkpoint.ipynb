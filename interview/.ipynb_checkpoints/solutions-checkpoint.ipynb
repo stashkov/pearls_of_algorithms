{
 "cells": [
  {
   "cell_type": "code",
   "execution_count": 93,
   "metadata": {
    "collapsed": true
   },
   "outputs": [
    {
     "name": "stdout",
     "output_type": "stream",
     "text": [
      "Exception reporting mode: Context\n",
      "Doctest mode is: OFF\n"
     ]
    }
   ],
   "source": [
    "%doctest_mode"
   ]
  },
  {
   "cell_type": "code",
   "execution_count": 1,
   "metadata": {},
   "outputs": [
    {
     "data": {
      "text/plain": [
       "TestResults(failed=0, attempted=4)"
      ]
     },
     "execution_count": 1,
     "metadata": {},
     "output_type": "execute_result"
    }
   ],
   "source": [
    "import doctest\n",
    "\n",
    "\n",
    "def list_plus_one(n):\n",
    "    \"\"\"\n",
    "    Given an array of integers e.g. [1,3,2,4] which represents number 1324\n",
    "    Return [1,3,2,5] which represents number 1325 \n",
    "    In other words you need to add +1 to the given number\n",
    "    \n",
    "    >>> list_plus_one([1, 3, 2, 4])\n",
    "    [1, 3, 2, 5]\n",
    "    \n",
    "    >>> list_plus_one([9, 9, 9])\n",
    "    [1, 0, 0, 0]\n",
    "    \n",
    "    >>> list_plus_one([])\n",
    "    []\n",
    "    \n",
    "    >>> list_plus_one([1, 9])\n",
    "    [2, 0]\n",
    "    \n",
    "    \"\"\"\n",
    "    if not n:\n",
    "        return list()\n",
    "    integer_representation = int(''.join([str(i) for i in n])) + 1  # O(n) iteration + O(n) list creation\n",
    "    return list(int(i) for i in str(integer_representation))  # O(n) iteration + O(n) list creation\n",
    "\n",
    "\n",
    "doctest.testmod()\n"
   ]
  },
  {
   "cell_type": "code",
   "execution_count": 95,
   "metadata": {},
   "outputs": [
    {
     "data": {
      "text/plain": [
       "TestResults(failed=0, attempted=5)"
      ]
     },
     "execution_count": 95,
     "metadata": {},
     "output_type": "execute_result"
    }
   ],
   "source": [
    "import doctest\n",
    "\n",
    "\n",
    "def list_plus_one(n):\n",
    "    \"\"\"\n",
    "    Given an array of integers e.g. [1,3,2,4] which represents number 1324\n",
    "    Return [1,3,2,5] which represents number 1325 \n",
    "    In other words you need to add +1 to the given number\n",
    "    \n",
    "    This assumes that integers inside the list are of value 0 to 9 \n",
    "    \n",
    "    >>> list_plus_one([1, 3, 2, 4])\n",
    "    [1, 3, 2, 5]\n",
    "\n",
    "    >>> list_plus_one([9, 9, 9])\n",
    "    [1, 0, 0, 0]\n",
    "\n",
    "    >>> list_plus_one([])\n",
    "    []\n",
    "\n",
    "    >>> list_plus_one([1, 9])\n",
    "    [2, 0]\n",
    "    \n",
    "    \"\"\"\n",
    "    \n",
    "    if not n:\n",
    "        return list()\n",
    "    \n",
    "    carry = 1\n",
    "    result = list()\n",
    "    for number in reversed(n):\n",
    "        current = number + carry\n",
    "        if current == 10:\n",
    "            result.append(0)\n",
    "            carry = 1\n",
    "        else:\n",
    "            result.append(current)\n",
    "            carry = 0\n",
    "    if carry == 1:\n",
    "        result.append(carry)\n",
    "    return list(reversed(result))   # O(n)\n",
    "\n",
    "\n",
    "doctest.testmod()\n"
   ]
  },
  {
   "cell_type": "code",
   "execution_count": 100,
   "metadata": {},
   "outputs": [
    {
     "name": "stdout",
     "output_type": "stream",
     "text": [
      "[]\n",
      "[1]\n",
      "[1, 2]\n",
      "[1, 3]\n",
      "[1, 2, 3]\n",
      "[1, 4]\n",
      "[1, 2, 3, 4]\n",
      "[2]\n",
      "[2, 3]\n",
      "[2, 4]\n",
      "[2, 3, 4]\n",
      "[3]\n",
      "[3, 4]\n",
      "[4]\n"
     ]
    }
   ],
   "source": [
    "input_array = [1, 2, 3, 4]\n",
    "\n",
    "print([])\n",
    "temp_array = list()\n",
    "for index, number1 in enumerate(input_array):\n",
    "    temp_array = [number1]\n",
    "    print(temp_array)\n",
    "    for number2 in input_array[1 + index:]:\n",
    "        print([number1, number2])\n",
    "        temp_array.append(number2)\n",
    "        if len(temp_array) != 2:\n",
    "            print(temp_array)\n"
   ]
  },
  {
   "cell_type": "code",
   "execution_count": 185,
   "metadata": {},
   "outputs": [
    {
     "name": "stdout",
     "output_type": "stream",
     "text": [
      "25 25\n",
      "0 24\n",
      "ZY\n"
     ]
    }
   ],
   "source": [
    "s = ''\n",
    "n = 676\n",
    "\n",
    "while n > 0:\n",
    "    n, remainder = divmod(n - 1, 26)\n",
    "    print(n, remainder)\n",
    "    s += chr(remainder + 65)\n",
    "        \n",
    "    ''.join(reversed(s))\n",
    "\n",
    "print(s)"
   ]
  },
  {
   "cell_type": "code",
   "execution_count": 259,
   "metadata": {},
   "outputs": [
    {
     "name": "stdout",
     "output_type": "stream",
     "text": [
      "27 1\n",
      "1\n",
      "1 1\n",
      "0\n",
      "AA\n"
     ]
    }
   ],
   "source": [
    "n = 27\n",
    "\n",
    "s = str()\n",
    "while n:\n",
    "    remainder = n % 26\n",
    "    if remainder == 0:\n",
    "        remainder = 26\n",
    "    print(n, remainder)\n",
    "    s = chr(ord('A') + remainder - 1) + s\n",
    "    n = int((n - 1) / 26)\n",
    "    print(n)\n",
    "    \n",
    "print(s)"
   ]
  },
  {
   "cell_type": "code",
   "execution_count": 238,
   "metadata": {},
   "outputs": [
    {
     "data": {
      "text/plain": [
       "'ZZ'"
      ]
     },
     "execution_count": 238,
     "metadata": {},
     "output_type": "execute_result"
    }
   ],
   "source": [
    "def xl_col_to_name(col_num, col_abs=False):\n",
    "    \"\"\"\n",
    "    Convert a zero indexed column cell reference to a string.\n",
    "    Args:\n",
    "       col:     The cell column. Int.\n",
    "       col_abs: Optional flag to make the column absolute. Bool.\n",
    "    Returns:\n",
    "        Column style string.\n",
    "    \"\"\"\n",
    "    # col_num += 1  # Change to 1-index.\n",
    "    col_str = ''\n",
    "    col_abs = '$' if col_abs else ''\n",
    "\n",
    "    while col_num:\n",
    "        remainder = col_num % 26\n",
    "        if remainder == 0:\n",
    "            remainder = 26\n",
    "        col_letter = chr(ord('A') + remainder - 1)\n",
    "\n",
    "        # Accumulate the column letters, right to left.\n",
    "        col_str = col_letter + col_str\n",
    "\n",
    "        # Get the next order of magnitude.\n",
    "        col_num = int((col_num - 1) / 26)\n",
    "\n",
    "    return col_abs + col_str\n",
    "\n",
    "xl_col_to_name(702)"
   ]
  },
  {
   "cell_type": "code",
   "execution_count": 260,
   "metadata": {},
   "outputs": [
    {
     "name": "stdout",
     "output_type": "stream",
     "text": [
      "Kto molodec? Dawa!\n"
     ]
    }
   ],
   "source": [
    "name = 'Dawa!'\n",
    "print('Kto molodec?', name)"
   ]
  },
  {
   "cell_type": "code",
   "execution_count": 262,
   "metadata": {},
   "outputs": [
    {
     "data": {
      "text/plain": [
       "['1', '2', '3']"
      ]
     },
     "execution_count": 262,
     "metadata": {},
     "output_type": "execute_result"
    }
   ],
   "source": [
    "my_list = [1,2,3]\n",
    "list(map(str, my_list))"
   ]
  },
  {
   "cell_type": "code",
   "execution_count": 263,
   "metadata": {},
   "outputs": [
    {
     "data": {
      "text/plain": [
       "5"
      ]
     },
     "execution_count": 263,
     "metadata": {},
     "output_type": "execute_result"
    }
   ],
   "source": [
    "hash(5)"
   ]
  },
  {
   "cell_type": "code",
   "execution_count": 264,
   "metadata": {},
   "outputs": [
    {
     "data": {
      "text/plain": [
       "-2295628006095211424"
      ]
     },
     "execution_count": 264,
     "metadata": {},
     "output_type": "execute_result"
    }
   ],
   "source": [
    "hash('ATCG')"
   ]
  },
  {
   "cell_type": "code",
   "execution_count": 266,
   "metadata": {},
   "outputs": [
    {
     "data": {
      "text/plain": [
       "3225153923144874647"
      ]
     },
     "execution_count": 266,
     "metadata": {},
     "output_type": "execute_result"
    }
   ],
   "source": [
    "hash('ATCASDASDsdffdsafsdaafsdfdfadsASDG')"
   ]
  },
  {
   "cell_type": "code",
   "execution_count": null,
   "metadata": {
    "collapsed": true
   },
   "outputs": [],
   "source": []
  }
 ],
 "metadata": {
  "kernelspec": {
   "display_name": "Python 3",
   "language": "python",
   "name": "python3"
  },
  "language_info": {
   "codemirror_mode": {
    "name": "ipython",
    "version": 3
   },
   "file_extension": ".py",
   "mimetype": "text/x-python",
   "name": "python",
   "nbconvert_exporter": "python",
   "pygments_lexer": "ipython3",
   "version": "3.6.1"
  }
 },
 "nbformat": 4,
 "nbformat_minor": 1
}
