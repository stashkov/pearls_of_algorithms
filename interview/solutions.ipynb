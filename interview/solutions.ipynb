{
 "cells": [
  {
   "cell_type": "code",
   "execution_count": 27,
   "metadata": {
    "collapsed": true
   },
   "outputs": [],
   "source": [
    "import doctest"
   ]
  },
  {
   "cell_type": "markdown",
   "metadata": {},
   "source": [
    "# Array + 1\n",
    "\n",
    "You need to add +1 to the given number which represtned as an array of ints.\n",
    "\n",
    "\n",
    "Given an array of integers e.g. [1,3,2,4] which represents number 1324\n",
    "\n",
    "Return array of integers [1,3,2,5] which represents number 1325 \n",
    "\n",
    "\n",
    "This task assumes that integers inside the list are of value 0 to 9. \n"
   ]
  },
  {
   "cell_type": "code",
   "execution_count": 29,
   "metadata": {
    "scrolled": true
   },
   "outputs": [
    {
     "data": {
      "text/plain": [
       "TestResults(failed=0, attempted=5)"
      ]
     },
     "execution_count": 29,
     "metadata": {},
     "output_type": "execute_result"
    }
   ],
   "source": [
    "def list_plus_one(n):\n",
    "    \"\"\"\n",
    "    >>> list_plus_one([])\n",
    "    []\n",
    "    \n",
    "    >>> list_plus_one([1])\n",
    "    [2]\n",
    "\n",
    "    >>> list_plus_one([1, 9])\n",
    "    [2, 0]\n",
    "    \n",
    "    >>> list_plus_one([1, 3, 2, 4])\n",
    "    [1, 3, 2, 5]\n",
    "\n",
    "    >>> list_plus_one([9, 9, 9])\n",
    "    [1, 0, 0, 0]\n",
    "    \n",
    "    \"\"\"\n",
    "    \n",
    "    if not n:\n",
    "        return list()\n",
    "    \n",
    "    carry = 1\n",
    "    result = list()\n",
    "    for number in reversed(n):\n",
    "        current = number + carry\n",
    "        if current == 10:\n",
    "            result.insert(0, 0)\n",
    "            carry = 1\n",
    "        else:\n",
    "            result.insert(0, current)\n",
    "            carry = 0\n",
    "    if carry == 1:\n",
    "        result.insert(0, carry)\n",
    "    return result\n",
    "\n",
    "doctest.testmod()"
   ]
  },
  {
   "cell_type": "markdown",
   "metadata": {},
   "source": [
    "### Performance considerations\n",
    "\n",
    "A list is implemented by an array of pointers to the objects it contains.\n",
    "\n",
    "Every time you call 'insert(0, indx)', all of the pointers already in the list have to be moved up once position before the new one can be inserted at the beginning.\n",
    "\n",
    "https://stackoverflow.com/questions/7776938/python-insert-vs-append\n",
    "\n",
    "\n",
    "List in python are pre-provisioned (it resizes automatically as you add items). \n",
    "\n",
    "\n"
   ]
  },
  {
   "cell_type": "markdown",
   "metadata": {},
   "source": [
    " "
   ]
  },
  {
   "cell_type": "markdown",
   "metadata": {},
   "source": [
    "# Generate all subsets of the given set"
   ]
  },
  {
   "cell_type": "code",
   "execution_count": 48,
   "metadata": {},
   "outputs": [
    {
     "name": "stdout",
     "output_type": "stream",
     "text": [
      "[]\n",
      "[1]\n",
      "[1, 2]\n",
      "[2]\n"
     ]
    }
   ],
   "source": [
    "input_array = [1, 2]\n",
    "\n",
    "print([])\n",
    "temp_array = list()\n",
    "for index, number1 in enumerate(input_array):\n",
    "    temp_array = [number1]\n",
    "    print(temp_array)\n",
    "    for number2 in input_array[1 + index:]:\n",
    "        print([number1, number2])\n",
    "        temp_array.append(number2)\n",
    "        if len(temp_array) != 2:\n",
    "            print(temp_array)\n"
   ]
  },
  {
   "cell_type": "code",
   "execution_count": 53,
   "metadata": {},
   "outputs": [
    {
     "name": "stdout",
     "output_type": "stream",
     "text": [
      "[None, None, None]\n",
      "[None, None, 3]\n",
      "[None, 2, None]\n",
      "[None, 2, 3]\n",
      "[1, None, None]\n",
      "[1, None, 3]\n",
      "[1, 2, None]\n",
      "[1, 2, 3]\n"
     ]
    }
   ],
   "source": [
    "def all_subsets(given_array):\n",
    "    subset = [None] * len(given_array)\n",
    "    helper(given_array, subset, 0)\n",
    "    \n",
    "def helper(given_array, subset, i):\n",
    "    if i == len(given_array):\n",
    "        print(subset)\n",
    "    else:\n",
    "        \n",
    "        subset[i] = None\n",
    "        helper(given_array, subset, i+1)\n",
    "        subset[i] = given_array[i]\n",
    "        helper(given_array, subset, i+1)\n",
    "        \n",
    "all_subsets([1,2,3])\n"
   ]
  },
  {
   "cell_type": "code",
   "execution_count": 185,
   "metadata": {},
   "outputs": [
    {
     "name": "stdout",
     "output_type": "stream",
     "text": [
      "25 25\n",
      "0 24\n",
      "ZY\n"
     ]
    }
   ],
   "source": [
    "s = ''\n",
    "n = 676\n",
    "\n",
    "while n > 0:\n",
    "    n, remainder = divmod(n - 1, 26)\n",
    "    print(n, remainder)\n",
    "    s += chr(remainder + 65)\n",
    "        \n",
    "    ''.join(reversed(s))\n",
    "\n",
    "print(s)"
   ]
  },
  {
   "cell_type": "code",
   "execution_count": 259,
   "metadata": {},
   "outputs": [
    {
     "name": "stdout",
     "output_type": "stream",
     "text": [
      "27 1\n",
      "1\n",
      "1 1\n",
      "0\n",
      "AA\n"
     ]
    }
   ],
   "source": [
    "n = 27\n",
    "\n",
    "s = str()\n",
    "while n:\n",
    "    remainder = n % 26\n",
    "    if remainder == 0:\n",
    "        remainder = 26\n",
    "    print(n, remainder)\n",
    "    s = chr(ord('A') + remainder - 1) + s\n",
    "    n = int((n - 1) / 26)\n",
    "    print(n)\n",
    "    \n",
    "print(s)"
   ]
  },
  {
   "cell_type": "code",
   "execution_count": 238,
   "metadata": {},
   "outputs": [
    {
     "data": {
      "text/plain": [
       "'ZZ'"
      ]
     },
     "execution_count": 238,
     "metadata": {},
     "output_type": "execute_result"
    }
   ],
   "source": [
    "def xl_col_to_name(col_num, col_abs=False):\n",
    "    \"\"\"\n",
    "    Convert a zero indexed column cell reference to a string.\n",
    "    Args:\n",
    "       col:     The cell column. Int.\n",
    "       col_abs: Optional flag to make the column absolute. Bool.\n",
    "    Returns:\n",
    "        Column style string.\n",
    "    \"\"\"\n",
    "    # col_num += 1  # Change to 1-index.\n",
    "    col_str = ''\n",
    "    col_abs = '$' if col_abs else ''\n",
    "\n",
    "    while col_num:\n",
    "        remainder = col_num % 26\n",
    "        if remainder == 0:\n",
    "            remainder = 26\n",
    "        col_letter = chr(ord('A') + remainder - 1)\n",
    "\n",
    "        # Accumulate the column letters, right to left.\n",
    "        col_str = col_letter + col_str\n",
    "\n",
    "        # Get the next order of magnitude.\n",
    "        col_num = int((col_num - 1) / 26)\n",
    "\n",
    "    return col_abs + col_str\n",
    "\n",
    "xl_col_to_name(702)"
   ]
  },
  {
   "cell_type": "code",
   "execution_count": 260,
   "metadata": {},
   "outputs": [
    {
     "name": "stdout",
     "output_type": "stream",
     "text": [
      "Kto molodec? Dawa!\n"
     ]
    }
   ],
   "source": [
    "name = 'Dawa!'\n",
    "print('Kto molodec?', name)"
   ]
  },
  {
   "cell_type": "code",
   "execution_count": 262,
   "metadata": {},
   "outputs": [
    {
     "data": {
      "text/plain": [
       "['1', '2', '3']"
      ]
     },
     "execution_count": 262,
     "metadata": {},
     "output_type": "execute_result"
    }
   ],
   "source": [
    "my_list = [1,2,3]\n",
    "list(map(str, my_list))"
   ]
  },
  {
   "cell_type": "code",
   "execution_count": 263,
   "metadata": {},
   "outputs": [
    {
     "data": {
      "text/plain": [
       "5"
      ]
     },
     "execution_count": 263,
     "metadata": {},
     "output_type": "execute_result"
    }
   ],
   "source": [
    "hash(5)"
   ]
  },
  {
   "cell_type": "code",
   "execution_count": 264,
   "metadata": {},
   "outputs": [
    {
     "data": {
      "text/plain": [
       "-2295628006095211424"
      ]
     },
     "execution_count": 264,
     "metadata": {},
     "output_type": "execute_result"
    }
   ],
   "source": [
    "hash('ATCG')"
   ]
  },
  {
   "cell_type": "code",
   "execution_count": 266,
   "metadata": {},
   "outputs": [
    {
     "data": {
      "text/plain": [
       "3225153923144874647"
      ]
     },
     "execution_count": 266,
     "metadata": {},
     "output_type": "execute_result"
    }
   ],
   "source": [
    "hash('ATCASDASDsdffdsafsdaafsdfdfadsASDG')"
   ]
  },
  {
   "cell_type": "code",
   "execution_count": 2,
   "metadata": {},
   "outputs": [
    {
     "name": "stderr",
     "output_type": "stream",
     "text": [
      "ERROR:root:Cell magic `%%pytest` not found.\n"
     ]
    }
   ],
   "source": [
    "%%pytest\n",
    "\n",
    "def test_my_stuff():\n",
    "    assert 42 == 42"
   ]
  },
  {
   "cell_type": "markdown",
   "metadata": {},
   "source": [
    "cubics. O(1) space O(1) time\n",
    "\n",
    "generate all 01010 of a given length. \n",
    "\n",
    "find duplicates in the array of integers.  O(n) time and O(n) space\n",
    "\n",
    "given consequtive integers 1 to n, I remove 1 of them. find this item.  O(n) time and O(1) space\n",
    "\n",
    "excel numbers to letters and the other direction. O(n) time and O(1) space\n",
    "\n",
    "roman numerals to regular ints and the other direction. O(n) time and o(1) space\n"
   ]
  },
  {
   "cell_type": "code",
   "execution_count": 198,
   "metadata": {
    "collapsed": true
   },
   "outputs": [],
   "source": [
    "class UnionFind:\n",
    "    def __init__(self, length):\n",
    "        self.length = length\n",
    "        self.array = self._initialize()\n",
    "        \n",
    "    def _initialize(self) -> list:\n",
    "        return [i for i in range(self.length)]\n",
    "    \n",
    "    def union(self, source, destination) -> None:\n",
    "        \"\"\"add a connection between source and destination\"\"\"\n",
    "        source_id = self.array[source]\n",
    "        destination_id = self.array[destination]\n",
    "        for index, node in enumerate(self.array):\n",
    "            if node == source_id:\n",
    "                self.array[index] = destination_id\n",
    "    \n",
    "    def is_connected(self, source, destination) -> bool:\n",
    "        \"\"\"checks if there is a path between source and a destination\"\"\"\n",
    "        return self.array[source] == self.array[destination]\n",
    "    \n",
    "    def count(self) -> int:\n",
    "        \"\"\"number of components\"\"\"\n",
    "        return len(set(self.array))\n",
    "    "
   ]
  },
  {
   "cell_type": "code",
   "execution_count": 199,
   "metadata": {},
   "outputs": [
    {
     "name": "stderr",
     "output_type": "stream",
     "text": [
      "...\n",
      "----------------------------------------------------------------------\n",
      "Ran 3 tests in 0.002s\n",
      "\n",
      "OK\n"
     ]
    }
   ],
   "source": [
    "import unittest\n",
    "\n",
    "class TestUnionFind(unittest.TestCase):\n",
    "\n",
    "    \n",
    "    def test_connect(self):\n",
    "        uf = UnionFind(3)\n",
    "        uf.union(1,2)\n",
    "        self.assertTrue(uf.is_connected(1,2))\n",
    "        self.assertFalse(uf.is_connected(0,1))\n",
    "    \n",
    "    def test_components(self):\n",
    "        uf = UnionFind(3)\n",
    "        uf.union(0,1)\n",
    "        self.assertEqual(uf.count(), 2)\n",
    "        \n",
    "\n",
    "    def test_union(self):\n",
    "        uf = UnionFind(5)\n",
    "        uf.union(0,1)\n",
    "        uf.union(1,2)\n",
    "        uf.union(2,3)\n",
    "        uf.union(3,4)\n",
    "        self.assertEqual(uf.array, [4,4,4,4,4])\n",
    "\n",
    "if __name__ == '__main__':\n",
    "    unittest.main(argv=['first-arg-is-ignored'], exit=False)\n",
    "    \n",
    "    \n",
    "    "
   ]
  },
  {
   "cell_type": "code",
   "execution_count": 216,
   "metadata": {
    "collapsed": true
   },
   "outputs": [],
   "source": [
    "class QuickUnion:\n",
    "    def __init__(self, length):\n",
    "        self.length = length\n",
    "        self.array = self._initialize()\n",
    "        \n",
    "    def _initialize(self) -> list:\n",
    "        return [i for i in range(self.length)]\n",
    "    \n",
    "    def union(self, source, destination) -> None:\n",
    "        \"\"\"add a connection between source and destination\"\"\"\n",
    "        self.array[self.root(source)] = self.root(destination)\n",
    "    \n",
    "    def is_connected(self, source, destination) -> bool:\n",
    "        \"\"\"checks if there is a path between source and a destination\"\"\"\n",
    "        return self.root(source) == self.root(destination)\n",
    "        \n",
    "    def root(self, node) -> int:\n",
    "        while node != self.array[node]:\n",
    "            node = self.array[node]\n",
    "        return node\n",
    "    \n",
    "    def count(self) -> int:\n",
    "        \"\"\"number of components\"\"\"\n",
    "        return len(set([self.root(i) for i in self.array]))\n",
    "    "
   ]
  },
  {
   "cell_type": "code",
   "execution_count": 218,
   "metadata": {},
   "outputs": [
    {
     "name": "stderr",
     "output_type": "stream",
     "text": [
      "......\n",
      "----------------------------------------------------------------------\n",
      "Ran 6 tests in 0.004s\n",
      "\n",
      "OK\n"
     ]
    }
   ],
   "source": [
    "import unittest\n",
    "\n",
    "class TestQuickUnion(unittest.TestCase):\n",
    "\n",
    "    \n",
    "    def test_connect(self):\n",
    "        uf = QuickUnion(3)\n",
    "        uf.union(1,2)\n",
    "        self.assertTrue(uf.is_connected(1,2))\n",
    "        self.assertFalse(uf.is_connected(0,1))\n",
    "    \n",
    "    def test_components(self):\n",
    "        uf = QuickUnion(3)\n",
    "        uf.union(0,1)\n",
    "        self.assertEqual(uf.count(), 2)\n",
    "        \n",
    "\n",
    "    def test_union(self):\n",
    "        uf = QuickUnion(5)\n",
    "        uf.union(0,1)\n",
    "        uf.union(1,2)\n",
    "        uf.union(2,3)\n",
    "        uf.union(3,4)\n",
    "        self.assertEqual(uf.array, [1,2,3,4,4])\n",
    "\n",
    "if __name__ == '__main__':\n",
    "    unittest.main(argv=['first-arg-is-ignored'], exit=False)\n",
    "    \n",
    "    \n",
    "    "
   ]
  },
  {
   "cell_type": "markdown",
   "metadata": {},
   "source": [
    "implement dijkstra 2 stack algorithm for arithmetic oeprations"
   ]
  },
  {
   "cell_type": "code",
   "execution_count": null,
   "metadata": {
    "collapsed": true
   },
   "outputs": [],
   "source": []
  },
  {
   "cell_type": "code",
   "execution_count": null,
   "metadata": {
    "collapsed": true
   },
   "outputs": [],
   "source": []
  },
  {
   "cell_type": "code",
   "execution_count": null,
   "metadata": {
    "collapsed": true
   },
   "outputs": [],
   "source": []
  },
  {
   "cell_type": "code",
   "execution_count": 226,
   "metadata": {
    "collapsed": true
   },
   "outputs": [],
   "source": [
    "date = '28/Feb/2018:12:37:15'\n",
    "from datetime import datetime"
   ]
  },
  {
   "cell_type": "code",
   "execution_count": 228,
   "metadata": {
    "collapsed": true
   },
   "outputs": [],
   "source": [
    "date = datetime.strptime(date, \"%d/%b/%Y:%H:%M:%S\")"
   ]
  },
  {
   "cell_type": "code",
   "execution_count": 229,
   "metadata": {},
   "outputs": [
    {
     "data": {
      "text/plain": [
       "datetime.datetime(2018, 2, 28, 12, 37, 15)"
      ]
     },
     "execution_count": 229,
     "metadata": {},
     "output_type": "execute_result"
    }
   ],
   "source": [
    "date"
   ]
  },
  {
   "cell_type": "code",
   "execution_count": 246,
   "metadata": {
    "collapsed": true
   },
   "outputs": [],
   "source": [
    "\n",
    "a = re.search('-P\\d+', '18.0.0.3713-P132')"
   ]
  },
  {
   "cell_type": "code",
   "execution_count": 247,
   "metadata": {},
   "outputs": [
    {
     "data": {
      "text/plain": [
       "'-P132'"
      ]
     },
     "execution_count": 247,
     "metadata": {},
     "output_type": "execute_result"
    }
   ],
   "source": [
    "a.group(0)"
   ]
  },
  {
   "cell_type": "code",
   "execution_count": 248,
   "metadata": {
    "collapsed": true
   },
   "outputs": [],
   "source": [
    "s = 'dsfjlaskf-sadfadsf'"
   ]
  },
  {
   "cell_type": "code",
   "execution_count": 249,
   "metadata": {
    "collapsed": true
   },
   "outputs": [],
   "source": [
    "s = s.split('-')"
   ]
  },
  {
   "cell_type": "code",
   "execution_count": 250,
   "metadata": {},
   "outputs": [
    {
     "data": {
      "text/plain": [
       "['dsfjlaskf', 'sadfadsf']"
      ]
     },
     "execution_count": 250,
     "metadata": {},
     "output_type": "execute_result"
    }
   ],
   "source": [
    "s"
   ]
  },
  {
   "cell_type": "code",
   "execution_count": 251,
   "metadata": {},
   "outputs": [
    {
     "data": {
      "text/plain": [
       "['sdafadsffsadf']"
      ]
     },
     "execution_count": 251,
     "metadata": {},
     "output_type": "execute_result"
    }
   ],
   "source": [
    "s = 'sdafadsffsadf'\n",
    "s = s.split('-')\n",
    "s"
   ]
  },
  {
   "cell_type": "code",
   "execution_count": 252,
   "metadata": {},
   "outputs": [
    {
     "data": {
      "text/plain": [
       "['sdafadsffsadf']"
      ]
     },
     "execution_count": 252,
     "metadata": {},
     "output_type": "execute_result"
    }
   ],
   "source": [
    "s"
   ]
  },
  {
   "cell_type": "code",
   "execution_count": 253,
   "metadata": {},
   "outputs": [
    {
     "data": {
      "text/plain": [
       "\"['sdafadsffsadf']\""
      ]
     },
     "execution_count": 253,
     "metadata": {},
     "output_type": "execute_result"
    }
   ],
   "source": [
    "str(s)"
   ]
  },
  {
   "cell_type": "code",
   "execution_count": 254,
   "metadata": {},
   "outputs": [
    {
     "data": {
      "text/plain": [
       "'sdafadsffsadf'"
      ]
     },
     "execution_count": 254,
     "metadata": {},
     "output_type": "execute_result"
    }
   ],
   "source": [
    "s[0]"
   ]
  },
  {
   "cell_type": "code",
   "execution_count": 255,
   "metadata": {},
   "outputs": [
    {
     "data": {
      "text/plain": [
       "4"
      ]
     },
     "execution_count": 255,
     "metadata": {},
     "output_type": "execute_result"
    }
   ],
   "source": [
    "6^2"
   ]
  },
  {
   "cell_type": "code",
   "execution_count": 287,
   "metadata": {},
   "outputs": [
    {
     "name": "stdout",
     "output_type": "stream",
     "text": [
      "The local minimum occurs at -6.000000\n"
     ]
    }
   ],
   "source": [
    "cur_x = -6 # The algorithm starts at x=6\n",
    "gamma = 0.01 # step size multiplier\n",
    "precision = 0.0000001\n",
    "previous_step_size = cur_x\n",
    "\n",
    "df = lambda x: 2*x -4 #4 * x**3 - 9 * x**2\n",
    "\n",
    "while previous_step_size > precision:\n",
    "    prev_x = cur_x\n",
    "    cur_x += -gamma * df(prev_x)\n",
    "    previous_step_size = abs(cur_x - prev_x)\n",
    "\n",
    "print(\"The local minimum occurs at %f\" % cur_x)\n",
    "\n",
    "\n",
    "\n"
   ]
  },
  {
   "cell_type": "code",
   "execution_count": 283,
   "metadata": {},
   "outputs": [
    {
     "data": {
      "image/png": "[encoded data removed]",
      "text/plain": [
       "<matplotlib.figure.Figure at 0x113b5a9e8>"
      ]
     },
     "metadata": {},
     "output_type": "display_data"
    }
   ],
   "source": [
    "import matplotlib.pyplot as p\n",
    "x = range(-10, 10)\n",
    "y = lambda x : x**2 - 4*x\n",
    "\n",
    "\n",
    "p.plot(x, [y(i) for i in x])\n",
    "p.show()"
   ]
  },
  {
   "cell_type": "code",
   "execution_count": null,
   "metadata": {
    "collapsed": true
   },
   "outputs": [],
   "source": [
    "f = lambda x : sqrt\n",
    "p.plot()"
   ]
  },
  {
   "cell_type": "code",
   "execution_count": null,
   "metadata": {
    "collapsed": true
   },
   "outputs": [],
   "source": [
    "def assign_points_to_cluster(points: list, cluster: list) -> dict:\n",
    "    return ..."
   ]
  }
 ],
 "metadata": {
  "kernelspec": {
   "display_name": "Python 3",
   "language": "python",
   "name": "python3"
  },
  "language_info": {
   "codemirror_mode": {
    "name": "ipython",
    "version": 3
   },
   "file_extension": ".py",
   "mimetype": "text/x-python",
   "name": "python",
   "nbconvert_exporter": "python",
   "pygments_lexer": "ipython3",
   "version": "3.6.1"
  }
 },
 "nbformat": 4,
 "nbformat_minor": 1
}
