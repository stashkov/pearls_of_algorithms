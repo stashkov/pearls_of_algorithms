{
 "cells": [
  {
   "cell_type": "code",
   "execution_count": 22,
   "metadata": {},
   "outputs": [],
   "source": [
    "from numpy import exp,array,random,dot"
   ]
  },
  {
   "cell_type": "code",
   "execution_count": 39,
   "metadata": {},
   "outputs": [],
   "source": [
    "class NeuralNetwork:\n",
    "    def __init__(self):\n",
    "        random.seed(1)\n",
    "        self.weights = 2 * random.random((3,1)) - 1\n",
    "        \n",
    "    @staticmethod\n",
    "    def _sigmoid_derivative(x):\n",
    "        return NeuralNetwork._sigmoid(x) * (1 - NeuralNetwork._sigmoid(x))\n",
    "\n",
    "    @staticmethod\n",
    "    def _sigmoid(x):\n",
    "        return 1 / (1 + exp(-x))\n",
    "    \n",
    "    def predict(self, inputs):\n",
    "        return self._sigmoid(dot(inputs, self.weights))\n",
    "    \n",
    "    def train(self, train_inputs, train_outputs, iterations):\n",
    "        for i in range(iterations):\n",
    "            output = self.predict(train_inputs)\n",
    "            error = train_outputs - output\n",
    "            adjustments = dot(train_inputs.T, error * self._sigmoid_derivative(output))\n",
    "            self.weights += adjustments"
   ]
  },
  {
   "cell_type": "code",
   "execution_count": 56,
   "metadata": {},
   "outputs": [
    {
     "name": "stdout",
     "output_type": "stream",
     "text": [
      "\n",
      "initial weights:  [[-0.16595599]\n",
      " [ 0.44064899]\n",
      " [-0.99977125]]\n",
      "\n",
      "adjusted weights:  [[19.64772187]\n",
      " [-0.40556114]\n",
      " [-9.53843554]]\n"
     ]
    }
   ],
   "source": [
    "training_set_inputs = array([[0,0,1], [1,1,1], [1,0,1], [0,1,1], [0,0,0]])\n",
    "training_set_outputs = array([[0,1,1,0, 0]]).T\n",
    "iterations = 100000\n",
    "\n",
    "nn = NeuralNetwork()\n",
    "\n",
    "print('\\ninitial weights: ', nn.weights)\n",
    "\n",
    "nn.train(train_inputs=training_set_inputs, train_outputs=training_set_outputs, iterations=iterations)\n",
    "print('\\nadjusted weights: ', nn.weights)"
   ]
  },
  {
   "cell_type": "code",
   "execution_count": 57,
   "metadata": {},
   "outputs": [
    {
     "data": {
      "text/plain": [
       "array([0.5])"
      ]
     },
     "execution_count": 57,
     "metadata": {},
     "output_type": "execute_result"
    }
   ],
   "source": [
    "nn.predict(array([0,0,0]))"
   ]
  },
  {
   "cell_type": "code",
   "execution_count": 15,
   "metadata": {},
   "outputs": [
    {
     "data": {
      "text/plain": [
       "array([[-0.39533485],\n",
       "       [-0.70648822],\n",
       "       [-0.81532281]])"
      ]
     },
     "execution_count": 15,
     "metadata": {},
     "output_type": "execute_result"
    }
   ],
   "source": [
    "2 * random.random((3,1)) -1"
   ]
  },
  {
   "cell_type": "code",
   "execution_count": 16,
   "metadata": {},
   "outputs": [
    {
     "data": {
      "text/plain": [
       "array([[12.00870061],\n",
       "       [-0.2044116 ],\n",
       "       [-5.8002822 ]])"
      ]
     },
     "execution_count": 16,
     "metadata": {},
     "output_type": "execute_result"
    }
   ],
   "source": [
    "nn.weights"
   ]
  },
  {
   "cell_type": "code",
   "execution_count": 19,
   "metadata": {},
   "outputs": [
    {
     "data": {
      "text/plain": [
       "array([1, 0, 0])"
      ]
     },
     "execution_count": 19,
     "metadata": {},
     "output_type": "execute_result"
    }
   ],
   "source": [
    "input = array([1,0,0])\n",
    "input"
   ]
  },
  {
   "cell_type": "code",
   "execution_count": null,
   "metadata": {},
   "outputs": [],
   "source": [
    "2 * random.random((3,1)) -1"
   ]
  },
  {
   "cell_type": "code",
   "execution_count": 20,
   "metadata": {},
   "outputs": [
    {
     "data": {
      "text/plain": [
       "array([12.00870061])"
      ]
     },
     "execution_count": 20,
     "metadata": {},
     "output_type": "execute_result"
    }
   ],
   "source": [
    "dot(input, nn.weights)"
   ]
  },
  {
   "cell_type": "code",
   "execution_count": 21,
   "metadata": {},
   "outputs": [
    {
     "data": {
      "text/plain": [
       "array([0.99999391])"
      ]
     },
     "execution_count": 21,
     "metadata": {},
     "output_type": "execute_result"
    }
   ],
   "source": [
    "nn._sigmoid(dot(input, nn.weights))"
   ]
  },
  {
   "cell_type": "code",
   "execution_count": 27,
   "metadata": {},
   "outputs": [
    {
     "data": {
      "text/plain": [
       "array([2.93158719e-09])"
      ]
     },
     "execution_count": 27,
     "metadata": {},
     "output_type": "execute_result"
    }
   ],
   "source": [
    "nn._sigmoid_derivative(dot(input, nn.weights))"
   ]
  },
  {
   "cell_type": "code",
   "execution_count": null,
   "metadata": {},
   "outputs": [],
   "source": []
  }
 ],
 "metadata": {
  "kernelspec": {
   "display_name": "Python 3",
   "language": "python",
   "name": "python3"
  },
  "language_info": {
   "codemirror_mode": {
    "name": "ipython",
    "version": 3
   },
   "file_extension": ".py",
   "mimetype": "text/x-python",
   "name": "python",
   "nbconvert_exporter": "python",
   "pygments_lexer": "ipython3",
   "version": "3.6.4"
  }
 },
 "nbformat": 4,
 "nbformat_minor": 2
}
