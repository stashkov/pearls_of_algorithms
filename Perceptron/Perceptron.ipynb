{
 "cells": [
  {
   "cell_type": "code",
   "execution_count": 44,
   "metadata": {
    "collapsed": true
   },
   "outputs": [],
   "source": [
    "from numpy import exp,array,random,dot"
   ]
  },
  {
   "cell_type": "code",
   "execution_count": 45,
   "metadata": {
    "collapsed": true
   },
   "outputs": [],
   "source": [
    "class NeuralNetwork:\n",
    "    def __init__(self):\n",
    "        random.seed(1)\n",
    "        self.weights = 2 * random.random((3,1)) -1\n",
    "        \n",
    "    @staticmethod\n",
    "    def _sigmoid_derivative(x):\n",
    "        return x * (1 - x)\n",
    "\n",
    "    @staticmethod\n",
    "    def _sigmoid(x):\n",
    "        return 1 / (1 + exp(-x))\n",
    "    \n",
    "    def predict(self, inputs):\n",
    "        return self._sigmoid(dot(inputs, self.weights))\n",
    "    \n",
    "    def train(self, train_inputs, train_outputs, iterations):\n",
    "        for i in range(iterations):\n",
    "            output = self.predict(train_inputs)\n",
    "            error = train_outputs - output\n",
    "            adjustments = dot(train_inputs.T, error * self._sigmoid_derivative(output))\n",
    "            self.weights += adjustments"
   ]
  },
  {
   "cell_type": "code",
   "execution_count": 46,
   "metadata": {},
   "outputs": [
    {
     "name": "stdout",
     "output_type": "stream",
     "text": [
      "\n",
      "initial weights:  [[-0.16595599]\n",
      " [ 0.44064899]\n",
      " [-0.99977125]]\n",
      "\n",
      "adjusted weights:  [[ 0.65701265]\n",
      " [ 0.53906065]\n",
      " [-0.66099969]]\n"
     ]
    }
   ],
   "source": [
    "training_set_inputs = array([[0,0,1], [1,1,1], [1,0,1], [0,1,1]])\n",
    "training_set_outputs = array([[0,1,1,0]]).T\n",
    "iterations = 3\n",
    "\n",
    "nn = NeuralNetwork()\n",
    "\n",
    "print('\\ninitial weights: ', nn.weights)\n",
    "\n",
    "nn.train(train_inputs=training_set_inputs, train_outputs=training_set_outputs, iterations=iterations)\n",
    "print('\\nadjusted weights: ', nn.weights)\n"
   ]
  },
  {
   "cell_type": "code",
   "execution_count": null,
   "metadata": {
    "collapsed": true
   },
   "outputs": [],
   "source": []
  }
 ],
 "metadata": {
  "kernelspec": {
   "display_name": "Python 3",
   "language": "python",
   "name": "python3"
  },
  "language_info": {
   "codemirror_mode": {
    "name": "ipython",
    "version": 3
   },
   "file_extension": ".py",
   "mimetype": "text/x-python",
   "name": "python",
   "nbconvert_exporter": "python",
   "pygments_lexer": "ipython3",
   "version": "3.6.1"
  }
 },
 "nbformat": 4,
 "nbformat_minor": 2
}
