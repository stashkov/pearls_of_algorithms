{
 "cells": [
  {
   "cell_type": "markdown",
   "metadata": {},
   "source": [
    "# Nemhauser Ullman Algorithm"
   ]
  },
  {
   "cell_type": "markdown",
   "metadata": {},
   "source": [
    "This is an implementation of Nemhauser Ullman algorithm for the knapsack problem. \n",
    "\n",
    "This was done as a part of Lecture \"Randomized Algorithms and Probabilistic Analysis\" \n",
    "\n",
    "by Prof. Heiko Röglin at University of Bonn (http://www.roeglin.org/)"
   ]
  },
  {
   "cell_type": "markdown",
   "metadata": {},
   "source": [
    "# What is a knapsack problem?\n",
    "### Informally:\n",
    "A burglar breaks into an appartment and wants to fill the bag (knapsack) to full, but also to gain maximum profit\n",
    "\n",
    "\n",
    "### Formally: \n",
    "\n",
    "Given: \n",
    "\n",
    "- $n$ items, with weights $w$ and profits $p$. \n",
    "- knapsack capacity $W$\n",
    "\n",
    "Find:\n",
    "\n",
    "- $w_1 x_1 + ... + w_n x_n \\leq W$\n",
    "\n",
    "Maximize:\n",
    "\n",
    "- $p_1 x_1 + ... + p_n x_n$\n",
    " \n"
   ]
  },
  {
   "cell_type": "markdown",
   "metadata": {},
   "source": [
    "# Exploring an example"
   ]
  },
  {
   "cell_type": "code",
   "execution_count": 1037,
   "metadata": {
    "collapsed": false
   },
   "outputs": [],
   "source": [
    "# declare items\n",
    "names = ['mouse', 'laptop', 'keyboard', 'book', 'pencil', 'cellphone']\n",
    "weights = [5, 15, 7, 9, 2, 5]\n",
    "profits = [10, 70, 25, 20, 2, 50]\n",
    "capacity = 37\n",
    "number_of_items = len(weights)"
   ]
  },
  {
   "cell_type": "code",
   "execution_count": 1038,
   "metadata": {
    "collapsed": false
   },
   "outputs": [
    {
     "name": "stdout",
     "output_type": "stream",
     "text": [
      "Total weight is 43\n",
      "Total profit is 177\n"
     ]
    }
   ],
   "source": [
    "print(\"Total weight is {}\".format(sum(weights)))\n",
    "print(\"Total profit is {}\".format(sum(profits)))"
   ]
  },
  {
   "cell_type": "code",
   "execution_count": 1039,
   "metadata": {
    "collapsed": true
   },
   "outputs": [],
   "source": [
    "import matplotlib.pyplot as plt\n",
    "%matplotlib inline"
   ]
  },
  {
   "cell_type": "markdown",
   "metadata": {},
   "source": [
    "# Plot items"
   ]
  },
  {
   "cell_type": "code",
   "execution_count": 1040,
   "metadata": {
    "collapsed": false
   },
   "outputs": [
    {
     "data": {
      "image/png": "[encoded data removed]",
      "text/plain": [
       "<matplotlib.figure.Figure at 0x8d73240>"
      ]
     },
     "metadata": {},
     "output_type": "display_data"
    }
   ],
   "source": [
    "plt.plot(weights, profits, 'ro', label='')\n",
    "plt.xlabel('weight')\n",
    "plt.xlabel('profit')\n",
    "plt.show()"
   ]
  },
  {
   "cell_type": "markdown",
   "metadata": {},
   "source": [
    "# Plot profit to weight ratio "
   ]
  },
  {
   "cell_type": "code",
   "execution_count": 1041,
   "metadata": {
    "collapsed": false
   },
   "outputs": [],
   "source": [
    "from __future__ import division\n",
    "profit_weight_relation = sorted([round(w/p, 3) for w, p in zip(weights, profits)])"
   ]
  },
  {
   "cell_type": "code",
   "execution_count": 1042,
   "metadata": {
    "collapsed": false
   },
   "outputs": [
    {
     "data": {
      "image/png": "[encoded data removed]",
      "text/plain": [
       "<matplotlib.figure.Figure at 0x8d98588>"
      ]
     },
     "metadata": {},
     "output_type": "display_data"
    }
   ],
   "source": [
    "plt.plot(profit_weight_relation, 'ro', label='')\n",
    "plt.ylabel('profit/weight relation')\n",
    "plt.xlabel('item')\n",
    "plt.show()"
   ]
  },
  {
   "cell_type": "markdown",
   "metadata": {},
   "source": [
    "# Every possible solution\n",
    "\n",
    "For every item from 1 to n, generate a string $\\{0,1\\}^n$, \n",
    "where 0 means we don't pick an item, and 1 means we pick it"
   ]
  },
  {
   "cell_type": "code",
   "execution_count": 1043,
   "metadata": {
    "collapsed": false
   },
   "outputs": [],
   "source": [
    "import itertools\n",
    "zero_one_vectors = list(itertools.product([0, 1], repeat=number_of_items))"
   ]
  },
  {
   "cell_type": "code",
   "execution_count": 1044,
   "metadata": {
    "collapsed": true
   },
   "outputs": [],
   "source": [
    "possible_solutions = list()\n",
    "for vector in zero_one_vectors:\n",
    "    p = sum([a * b for a, b in zip(vector, profits)])\n",
    "    w = sum([a * b for a, b in zip(vector, weights)])\n",
    "    possible_solutions.append(tuple((w, p)))"
   ]
  },
  {
   "cell_type": "code",
   "execution_count": 1045,
   "metadata": {
    "collapsed": false
   },
   "outputs": [
    {
     "data": {
      "image/png": "[encoded data removed]",
      "text/plain": [
       "<matplotlib.figure.Figure at 0xe940748>"
      ]
     },
     "metadata": {},
     "output_type": "display_data"
    }
   ],
   "source": [
    "p, w = zip(*possible_solutions)\n",
    "plt.plot(p, w, 'ro')\n",
    "plt.xlabel('weights')\n",
    "plt.ylabel('profits')\n",
    "plt.show()"
   ]
  },
  {
   "cell_type": "markdown",
   "metadata": {},
   "source": [
    "# Nemhauser Ullmann algorithm"
   ]
  },
  {
   "cell_type": "markdown",
   "metadata": {},
   "source": [
    "The core idea of Nemhauser Ullmann algorithm is to utilize definition of pareto optimal sets.\n",
    "\n",
    "In order to understand this, let us first plot pareto solutions and then see which ones are pareto optimal.\n",
    "\n",
    "### Algorithm:\n",
    "\n",
    "Initialize set $P_{i-1}$ as $[(0,0)]$\n",
    "\n",
    "For next item $i$ generate set $P_{i-1}^{+i} = \\{ (w + weight(i), p + profit(i)) \\, | \\, \\forall (w, p) \\in P_{i-1} \\}$\n",
    "\n",
    "Declare $Q_i = P_{i-1} \\cup P_{i-1}^{+i}$\n",
    "\n",
    "Declare $P_i = \\{ x | \\nexists y \\in Q_i \\,y \\,dominates \\,x \\}$"
   ]
  },
  {
   "cell_type": "markdown",
   "metadata": {
    "collapsed": false
   },
   "source": [
    "### Intuition\n",
    "To get intuation how algorithm works, let's plot \n",
    "- $P_{i-1}$ \n",
    "- $P_{i-1}^{+i}$ \n",
    "\n",
    "Then later we will try to calculate set $P_i$ which removes dominated solutions. But for now we keep them."
   ]
  },
  {
   "cell_type": "code",
   "execution_count": 1046,
   "metadata": {
    "collapsed": false
   },
   "outputs": [],
   "source": [
    "import copy\n",
    "\n",
    "resultP = []\n",
    "resultPi = []\n",
    "P_plus_item = []\n",
    "P = [(0,0)]\n",
    "resultP.append(P) # add solution (0,0)\n",
    "\n",
    "for item in range(number_of_items):\n",
    "    P_plus_item = copy.deepcopy(P)\n",
    "    for i, point in enumerate(P_plus_item):\n",
    "        weight, profit = point\n",
    "        P_plus_item[i] = tuple((weight + weights[item], profit + profits[item]))\n",
    "    P = P + P_plus_item\n",
    "    resultP.append(P)\n",
    "    resultPi.append(P_plus_item)\n",
    "\n",
    "resultP = [sorted(i) for i in resultP]\n",
    "resultPi = [sorted(i) for i in resultPi]"
   ]
  },
  {
   "cell_type": "markdown",
   "metadata": {},
   "source": [
    "### Plot\n",
    "\n",
    "We are going to plot $Q$, specifically sets $P_{i-1}$ and $P_{i-1}^{+i}$\n",
    "\n",
    "- Red circles represent set $P_{i-1}$\n",
    "- Green triangle represent set $P_{i-1}^{+i}$ i.e. what would happen to $P_{i-1}$ if we add item $i$ to it"
   ]
  },
  {
   "cell_type": "markdown",
   "metadata": {},
   "source": [
    "# Pareto optimal\n",
    "\n",
    "Now we have to understand what it means for a solution to be pareto optimal.\n",
    "\n",
    "Defintion: a solution $y$ is called *dominated* if $\\exists$ solution $x$ for which \n",
    "\n",
    "- $wx \\leq wy$\n",
    "- $px \\geq py$\n",
    "\n",
    "And at least one of these inequalities is strict\n",
    "\n",
    "Definition: a solution x is called *pareto optimal* if it is not dominated by any other solution"
   ]
  },
  {
   "cell_type": "code",
   "execution_count": 1047,
   "metadata": {
    "collapsed": false
   },
   "outputs": [],
   "source": [
    "def find_pareto_optimal_solutions(feasible_solutions):\n",
    "    \"\"\"\n",
    "    given a list of feasible solutions\n",
    "    return a list of pareto optimal solutions\n",
    "    \"\"\"\n",
    "    assert isinstance(feasible_solutions, list)\n",
    "    pareto_optimal = list()\n",
    "    pareto_optimal.append(feasible_solutions[0])\n",
    "    \n",
    "    _, max_profit = feasible_solutions[0]\n",
    "    for sol in feasible_solutions[1:]:\n",
    "        weight, profit = sol\n",
    "        if profit > max_profit:\n",
    "            max_profit = profit\n",
    "            if pareto_optimal[-1][0] == weight: # weight of last element added\n",
    "                del pareto_optimal[-1]\n",
    "            pareto_optimal.append(sol)\n",
    "    return pareto_optimal"
   ]
  },
  {
   "cell_type": "code",
   "execution_count": 1048,
   "metadata": {
    "collapsed": false
   },
   "outputs": [],
   "source": [
    "# test cases\n",
    "import unittest\n",
    "tc = unittest.TestCase('__init__')\n",
    "\n",
    "# notation: (weight, profit)\n",
    "lead = [(0,0)]\n",
    "gold = [(0,0)]\n",
    "tc.assertEqual(find_pareto_optimal_solutions(lead), gold)\n",
    "\n",
    "lead = [(0, 0), (5, 10)]\n",
    "gold = [(0, 0), (5, 10)]\n",
    "tc.assertEqual(find_pareto_optimal_solutions(lead), gold)\n",
    "\n",
    "lead = [(15, 70), (16, 45), (17, 72)]\n",
    "gold = [(15, 70), (17, 72)]\n",
    "tc.assertEqual(find_pareto_optimal_solutions(lead), gold)\n",
    "\n",
    "lead = [(5, 50), (7, 25), (7, 52), (9, 27)]\n",
    "gold = [(5, 50), (7, 52)]\n",
    "tc.assertEqual(find_pareto_optimal_solutions(lead), gold)\n",
    "\n",
    "lead = [(5, 10), (7, 12), (7, 25)]\n",
    "gold = [(5, 10), (7, 25)]\n",
    "tc.assertEqual(find_pareto_optimal_solutions(lead), gold)"
   ]
  },
  {
   "cell_type": "markdown",
   "metadata": {},
   "source": [
    "### Plotting pareto optimal solutions\n",
    "1. Given 2 *sorted* lists $P_{i-1}$ and $P_{i-1}^{+i}$ \n",
    "2. Merge them together preserving the order $Q_i = P_{i-1} \\cup P_{i-1}^{+i}$ \n",
    "3. Find pareto optimal solutions in $Q_i$"
   ]
  },
  {
   "cell_type": "code",
   "execution_count": 1049,
   "metadata": {
    "collapsed": false
   },
   "outputs": [],
   "source": [
    "import heapq\n",
    "\n",
    "pareto_optimal_points = list()\n",
    "for p, pi in zip(resultP, resultPi):\n",
    "    m = list(heapq.merge(p, pi))\n",
    "    s = find_pareto_optimal_solutions(m)\n",
    "    pareto_optimal_points.append(s)"
   ]
  },
  {
   "cell_type": "markdown",
   "metadata": {},
   "source": [
    "### Now we can plot pareto optimal solutions\n",
    "\n",
    "dotted blue line repsenets solutions that were selected as pareto optimal"
   ]
  },
  {
   "cell_type": "code",
   "execution_count": 1050,
   "metadata": {
    "collapsed": false
   },
   "outputs": [
    {
     "data": {
      "image/png": "[encoded data removed]",
      "text/plain": [
       "<matplotlib.figure.Figure at 0xb71ec88>"
      ]
     },
     "metadata": {},
     "output_type": "display_data"
    }
   ],
   "source": [
    "dim = {'x': 6, 'y': 2}\n",
    "f, axarr = plt.subplots(dim['x'], dim['y'], figsize=(18, 16))\n",
    "\n",
    "\n",
    "for i in range(dim['x']):\n",
    "    \n",
    "    x, y = zip(*pareto_optimal_points[i])\n",
    "    axarr[i, 1].plot(x,y, ls='steps--', ms=14)\n",
    "    \n",
    "    x, y = zip(*resultP[i])\n",
    "    axarr[i, 0].step(x,y, 'ro')\n",
    "    axarr[i, 1].plot(x,y, 'ro')\n",
    "    \n",
    "    x, y = zip(*resultPi[i])\n",
    "    axarr[i, 0].step(x,y, 'g^')\n",
    "    axarr[i, 1].plot(x,y, 'g^')\n",
    "    \n",
    "    \n",
    "    axarr[i, 0].set_title('item ' + str(i + 1))\n",
    "\n",
    "plt.show()\n",
    "f.subplots_adjust(hspace=15)"
   ]
  },
  {
   "cell_type": "markdown",
   "metadata": {},
   "source": [
    "# Combine algorithm"
   ]
  },
  {
   "cell_type": "code",
   "execution_count": 1051,
   "metadata": {
    "collapsed": false
   },
   "outputs": [],
   "source": [
    "import copy\n",
    "import heapq\n",
    "\n",
    "def calculate_p_plus_item(p, item):\n",
    "    assert isinstance(p, list)\n",
    "    pi = list()\n",
    "    for point in p:\n",
    "        weight, profit = point\n",
    "        x = weight + weights[item]\n",
    "        y = profit + profits[item]\n",
    "        pi.append(tuple((x, y)))\n",
    "    pi = sorted(pi)\n",
    "    return pi\n",
    "\n",
    "def best_capacity_result(p, capacity):\n",
    "    \"\"\"\n",
    "    given all pareto optimal solutions\n",
    "    pick the best which fills knapsack to capacity\n",
    "    \"\"\"\n",
    "    assert isinstance(p, list)\n",
    "    return [(w1, p1) for (w1, p1) in p if w1 <= capacity][-1]\n",
    "\n",
    "p = [(0,0)]\n",
    "for item in range(number_of_items):\n",
    "    p_plus_item = calculate_p_plus_item(p, item)\n",
    "    q = list(heapq.merge(p, p_plus_item))\n",
    "    p = find_pareto_optimal_solutions(q)\n",
    "solution = best_capacity_result(p, capacity)\n"
   ]
  },
  {
   "cell_type": "code",
   "execution_count": 1052,
   "metadata": {
    "collapsed": false
   },
   "outputs": [
    {
     "data": {
      "text/plain": [
       "(36, 165)"
      ]
     },
     "execution_count": 1052,
     "metadata": {},
     "output_type": "execute_result"
    }
   ],
   "source": [
    "solution"
   ]
  },
  {
   "cell_type": "markdown",
   "metadata": {},
   "source": [
    "# Result\n",
    "\n",
    "In our case solution with weight 36 and profit 165 is the optimal one"
   ]
  },
  {
   "cell_type": "code",
   "execution_count": 1053,
   "metadata": {
    "collapsed": false
   },
   "outputs": [
    {
     "data": {
      "text/plain": [
       "<matplotlib.text.Text at 0x7d736d8>"
      ]
     },
     "execution_count": 1053,
     "metadata": {},
     "output_type": "execute_result"
    },
    {
     "data": {
      "image/png": "[encoded data removed]",
      "text/plain": [
       "<matplotlib.figure.Figure at 0x11a92630>"
      ]
     },
     "metadata": {},
     "output_type": "display_data"
    }
   ],
   "source": [
    "x, y = zip(*p)\n",
    "plt.step(x, y)\n",
    "plt.plot(x, y, 'ro', ms=4)\n",
    "\n",
    "x, y = solution\n",
    "plt.axvline(x, linestyle = '--', color='red')\n",
    "plt.plot(x, y, 'g^', ms=14)\n",
    "\n",
    "p, w = zip(*possible_solutions)\n",
    "plt.plot(p, w, 'ro')\n",
    "\n",
    "plt.xlabel('weight')\n",
    "plt.ylabel('profit')"
   ]
  },
  {
   "cell_type": "markdown",
   "metadata": {},
   "source": [
    "### legend for the graph\n",
    "Green triangle is the optimal solution w.r.t capacity\n",
    "\n",
    "Vertical red dashed line is the capacity contraint\n",
    "\n",
    "Small red circles correspond to pareto optimal solutions"
   ]
  },
  {
   "cell_type": "markdown",
   "metadata": {},
   "source": [
    "# Full Algorithm"
   ]
  },
  {
   "cell_type": "code",
   "execution_count": 1054,
   "metadata": {
    "collapsed": false
   },
   "outputs": [],
   "source": [
    "%reset -f"
   ]
  },
  {
   "cell_type": "code",
   "execution_count": 1055,
   "metadata": {
    "collapsed": false
   },
   "outputs": [],
   "source": [
    "import heapq\n",
    "\n",
    "def calculate_p_plus_item(p, item, weights, profits):\n",
    "    assert isinstance(p, list)\n",
    "    pi = list()\n",
    "    for point in p:\n",
    "        weight, profit = point\n",
    "        x = weight + weights[item]\n",
    "        y = profit + profits[item]\n",
    "        pi.append(tuple((x, y)))\n",
    "    pi = sorted(pi)\n",
    "    return pi\n",
    "\n",
    "def best_capacity_result(p, capacity):\n",
    "    \"\"\"\n",
    "    given all pareto optimal solutions\n",
    "    pick the best which fills knapsack to capacity\n",
    "    \"\"\"\n",
    "    assert isinstance(p, list)\n",
    "    return [(w1, p1) for (w1, p1) in p if w1 <= capacity][-1]\n",
    "\n",
    "def find_pareto_optimal_solutions(feasible_solutions):\n",
    "    \"\"\"\n",
    "    given a list of feasible solutions\n",
    "    return a list of pareto optimal solutions\n",
    "    \"\"\"\n",
    "    assert isinstance(feasible_solutions, list)\n",
    "    pareto_optimal = list()\n",
    "    pareto_optimal.append(feasible_solutions[0])\n",
    "    \n",
    "    _, max_profit = feasible_solutions[0]\n",
    "    for sol in feasible_solutions[1:]:\n",
    "        weight, profit = sol\n",
    "        if profit > max_profit:  # this part can be done better\n",
    "            max_profit = profit\n",
    "            if pareto_optimal[-1][0] == weight: # weight of last element added\n",
    "                del pareto_optimal[-1]\n",
    "            pareto_optimal.append(sol)\n",
    "    return pareto_optimal\n",
    "\n",
    "def nemhauser_ullman(weights, profits, capacity):\n",
    "    assert isinstance(weights, list)\n",
    "    assert isinstance(profits, list)\n",
    "    assert isinstance(capacity, int)\n",
    "    number_of_items = len(zip(weights, profits))\n",
    "    p = [(0,0)]\n",
    "    for item in range(number_of_items):\n",
    "        p_plus_item = calculate_p_plus_item(p, item, weights, profits)\n",
    "        q = list(heapq.merge(p, p_plus_item))\n",
    "        p = find_pareto_optimal_solutions(q)\n",
    "    return best_capacity_result(p, capacity)"
   ]
  },
  {
   "cell_type": "code",
   "execution_count": 1056,
   "metadata": {
    "collapsed": false
   },
   "outputs": [],
   "source": [
    "# test cases\n",
    "import unittest\n",
    "tc = unittest.TestCase('__init__')\n",
    "\n",
    "weights = [5, 15, 7, 9, 2, 5]\n",
    "profits = [10, 70, 25, 20, 2, 50]\n",
    "capacity = 37\n",
    "gold = (36, 165)\n",
    "tc.assertEqual(nemhauser_ullman(weights, profits, capacity), gold)\n",
    "\n",
    "weights = [1, 2, 3]\n",
    "profits = [10, 20, 30]\n",
    "capacity = 1\n",
    "gold = (1, 10)\n",
    "tc.assertEqual(nemhauser_ullman(weights, profits, capacity), gold)\n",
    "\n",
    "weights = [1, 2, 3]\n",
    "profits = [10, 20, 30]\n",
    "capacity = 3\n",
    "gold = (3, 30)\n",
    "tc.assertEqual(nemhauser_ullman(weights, profits, capacity), gold)\n",
    "\n",
    "weights = [1, 2, 3]\n",
    "profits = [10, 20, 30]\n",
    "capacity = 5\n",
    "gold = (5, 50)\n",
    "tc.assertEqual(nemhauser_ullman(weights, profits, capacity), gold)\n",
    "\n",
    "weights = [1, 2, 3]\n",
    "profits = [10, 20, 30]\n",
    "capacity = 6\n",
    "gold = (6, 60)\n",
    "tc.assertEqual(nemhauser_ullman(weights, profits, capacity), gold)"
   ]
  },
  {
   "cell_type": "code",
   "execution_count": 1057,
   "metadata": {
    "collapsed": false
   },
   "outputs": [],
   "source": [
    "import random\n",
    "def timeit_nemhauser_ullman(n):\n",
    "    number_of_items = n\n",
    "    weights = [random.choice(range(100)) for i in range(number_of_items)]\n",
    "    profits = [random.choice(range(100)) for i in range(number_of_items)]\n",
    "    capacity = sum(weights) - int(sum(weights) * 0.05)  # set capacity to max weight - 5%\n",
    "\n",
    "    import time\n",
    "    start = time.time()\n",
    "    nemhauser_ullman(weights, profits, capacity)\n",
    "    \n",
    "    return time.time() - start"
   ]
  },
  {
   "cell_type": "code",
   "execution_count": 1058,
   "metadata": {
    "collapsed": false
   },
   "outputs": [
    {
     "data": {
      "text/plain": [
       "0.16899991035461426"
      ]
     },
     "execution_count": 1058,
     "metadata": {},
     "output_type": "execute_result"
    }
   ],
   "source": [
    "timeit_nemhauser_ullman(100)"
   ]
  },
  {
   "cell_type": "markdown",
   "metadata": {
    "collapsed": true
   },
   "source": [
    "For 100 items algorithm took 0.1 seconds to run\n",
    "\n",
    "For 500 items algorithm took 4.2 seconds to run\n",
    "\n",
    "For 1000 items algorithm took 21.7 seconds to run\n",
    "\n",
    "For 2000 items algorithm took 120.5 seconds to run\n",
    "\n",
    "For 3000 items algorithm took 289.8 seconds to run\n",
    "\n",
    "For 4000 items algorithm took 513.8 seconds to run\n",
    "\n",
    "For 5000 items algorithm took 1061.8 seconds to run"
   ]
  },
  {
   "cell_type": "code",
   "execution_count": 1062,
   "metadata": {
    "collapsed": false
   },
   "outputs": [],
   "source": [
    "size = [100, 500, 1000, 2000, 3000, 4000, 5000]\n",
    "runtime = [0.1, 4.2, 21.7, 120.5, 289.8, 513.8, 1061.8]"
   ]
  },
  {
   "cell_type": "markdown",
   "metadata": {
    "collapsed": true
   },
   "source": [
    "![title](_runtime.png)"
   ]
  },
  {
   "cell_type": "code",
   "execution_count": null,
   "metadata": {
    "collapsed": true
   },
   "outputs": [],
   "source": []
  }
 ],
 "metadata": {
  "kernelspec": {
   "display_name": "Python 2",
   "language": "python",
   "name": "python2"
  },
  "language_info": {
   "codemirror_mode": {
    "name": "ipython",
    "version": 2
   },
   "file_extension": ".py",
   "mimetype": "text/x-python",
   "name": "python",
   "nbconvert_exporter": "python",
   "pygments_lexer": "ipython2",
   "version": "2.7.12"
  }
 },
 "nbformat": 4,
 "nbformat_minor": 0
}
