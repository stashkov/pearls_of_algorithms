{
 "cells": [
  {
   "cell_type": "markdown",
   "metadata": {},
   "source": [
    "# Nemhauser Ullman Algorithm"
   ]
  },
  {
   "cell_type": "markdown",
   "metadata": {},
   "source": [
    "This is an implementation of Nemhauser Ullman algorithm for the knapsack problem. \n",
    "\n",
    "This was done as a part of Lecture \"Randomized Algorithms and Probabilistic Analysis\" \n",
    "\n",
    "by Prof. Heiko Röglin at University of Bonn (http://www.roeglin.org/)"
   ]
  },
  {
   "cell_type": "markdown",
   "metadata": {},
   "source": [
    "# What is a knapsack problem?\n",
    "### Informally:\n",
    "A burglar breaks into an appartment and wants to fill the bag (knapsack) to full, but also to gain maximum profit\n",
    "\n",
    "\n",
    "### Formally: \n",
    "\n",
    "Given: \n",
    "\n",
    "- $n$ items, with weights $w$ and profits $p$. \n",
    "- knapsack capacity $W$\n",
    "\n",
    "Find:\n",
    "\n",
    "- $w_1 x_1 + ... + w_n x_n \\leq W$\n",
    "\n",
    "Maximize:\n",
    "\n",
    "- $p_1 x_1 + ... + p_n x_n$\n",
    " \n"
   ]
  },
  {
   "cell_type": "markdown",
   "metadata": {},
   "source": [
    "# Exploring an example"
   ]
  },
  {
   "cell_type": "code",
   "execution_count": 228,
   "metadata": {
    "collapsed": false
   },
   "outputs": [],
   "source": [
    "# declare items\n",
    "names = ['mouse', 'laptop', 'keyboard', 'book', 'pencil', 'cellphone']\n",
    "weights = [5, 15, 7, 9, 2, 5]\n",
    "profits = [10, 70, 25, 20, 2, 50]\n",
    "number_of_items = len(weights)"
   ]
  },
  {
   "cell_type": "code",
   "execution_count": 229,
   "metadata": {
    "collapsed": false
   },
   "outputs": [
    {
     "name": "stdout",
     "output_type": "stream",
     "text": [
      "Total weight is 43\n",
      "Total profit is 177\n"
     ]
    }
   ],
   "source": [
    "print(\"Total weight is {}\".format(sum(weights)))\n",
    "print(\"Total profit is {}\".format(sum(profits)))"
   ]
  },
  {
   "cell_type": "code",
   "execution_count": 230,
   "metadata": {
    "collapsed": true
   },
   "outputs": [],
   "source": [
    "import matplotlib.pyplot as plt\n",
    "%matplotlib inline"
   ]
  },
  {
   "cell_type": "markdown",
   "metadata": {},
   "source": [
    "# Plot items"
   ]
  },
  {
   "cell_type": "code",
   "execution_count": 231,
   "metadata": {
    "collapsed": false
   },
   "outputs": [
    {
     "data": {
      "image/png": "[encoded data removed]",
      "text/plain": [
       "<matplotlib.figure.Figure at 0xb116860>"
      ]
     },
     "metadata": {},
     "output_type": "display_data"
    }
   ],
   "source": [
    "plt.plot(weights, profits, 'ro', label='')\n",
    "plt.xlabel('weight')\n",
    "plt.xlabel('profit')\n",
    "plt.show()"
   ]
  },
  {
   "cell_type": "markdown",
   "metadata": {},
   "source": [
    "# Plot profit to weight ratio "
   ]
  },
  {
   "cell_type": "code",
   "execution_count": 232,
   "metadata": {
    "collapsed": false
   },
   "outputs": [],
   "source": [
    "from __future__ import division\n",
    "profit_weight_relation = sorted([round(w/p, 3) for w, p in zip(weights, profits)])"
   ]
  },
  {
   "cell_type": "code",
   "execution_count": 233,
   "metadata": {
    "collapsed": false
   },
   "outputs": [
    {
     "data": {
      "image/png": "[encoded data removed]",
      "text/plain": [
       "<matplotlib.figure.Figure at 0xb06fd30>"
      ]
     },
     "metadata": {},
     "output_type": "display_data"
    }
   ],
   "source": [
    "plt.plot(profit_weight_relation, 'ro', label='')\n",
    "plt.ylabel('profit/weight relation')\n",
    "plt.xlabel('item')\n",
    "plt.show()"
   ]
  },
  {
   "cell_type": "markdown",
   "metadata": {},
   "source": [
    "# Attempt to solve\n",
    "\n",
    "### Look at every possible combination of items\n",
    "\n",
    "For every item from 1 to n, generate a string $\\{0,1\\}^n$, \n",
    "where 0 means we don't pick an item, and 1 means we pick it"
   ]
  },
  {
   "cell_type": "code",
   "execution_count": 234,
   "metadata": {
    "collapsed": false
   },
   "outputs": [],
   "source": [
    "import itertools\n",
    "zero_one_vectors = list(itertools.product([0, 1], repeat=number_of_items))"
   ]
  },
  {
   "cell_type": "code",
   "execution_count": 245,
   "metadata": {
    "collapsed": false
   },
   "outputs": [],
   "source": [
    "solution_weights = []\n",
    "solution_profits = []\n",
    "\n",
    "for solution in solutions:\n",
    "    total_profit = 0\n",
    "    total_weight = 0\n",
    "    for index, item in enumerate(solution):\n",
    "        if item:\n",
    "            total_weight += weights[index]\n",
    "            total_profit += profits[index]\n",
    "    solution_weights.append(total_weight)\n",
    "    solution_profits.append(total_profit)     "
   ]
  },
  {
   "cell_type": "code",
   "execution_count": null,
   "metadata": {
    "collapsed": true
   },
   "outputs": [],
   "source": [
    "possible_solutions = list()\n",
    "\n",
    "for vector in zero_one_vectors:\n",
    "    p = sum([a * b for a, b in zip(vector, profits)])\n",
    "    w = sum([a * b for a, b in zip(vector, weights)])\n",
    "    possible_solutions.append(tuple((p, w)))"
   ]
  },
  {
   "cell_type": "code",
   "execution_count": 250,
   "metadata": {
    "collapsed": false
   },
   "outputs": [
    {
     "data": {
      "image/png": "[encoded data removed]",
      "text/plain": [
       "<matplotlib.figure.Figure at 0x95e3fd0>"
      ]
     },
     "metadata": {},
     "output_type": "display_data"
    }
   ],
   "source": [
    "p, w = zip(*possible_solutions)\n",
    "plt.plot(w, p, 'ro', label='')\n",
    "plt.xlabel('weights')\n",
    "plt.ylabel('profits')\n",
    "plt.show()"
   ]
  },
  {
   "cell_type": "markdown",
   "metadata": {},
   "source": [
    "# Nemhauser Ullmann algorithm"
   ]
  },
  {
   "cell_type": "markdown",
   "metadata": {},
   "source": [
    "The core idea of Nemhauser Ullmann algorithm is to utilize definition of pareto optimal sets.\n",
    "\n",
    "In order to understand this, let us first plot pareto solutions and then see which ones are pareto optimal.\n",
    "\n",
    "### Algorithm:\n",
    "\n",
    "Initialize set $P_{i-1}$ as $[(0,0)]$\n",
    "\n",
    "For next item $i$ generate set $P_{i-1}^{+i} = \\{ (w + weight(i), p + profit(i)) \\, | \\, \\forall (w, p) \\in P_i \\}$\n",
    "\n",
    "Declare $Q_i = P_{i-1} \\cup P_{i-1}^{+i}$\n",
    "\n",
    "Declare $P_i = \\{ x | \\nexists y \\in Q_i \\,y \\,dominates \\,x \\}$"
   ]
  },
  {
   "cell_type": "markdown",
   "metadata": {
    "collapsed": false
   },
   "source": [
    "### Intuition\n",
    "To get intuation how algorithm works, let's plot \n",
    "- $P_{i-1}$ \n",
    "- $P_{i-1}^{+i}$ \n",
    "- $P_i$"
   ]
  },
  {
   "cell_type": "code",
   "execution_count": 215,
   "metadata": {
    "collapsed": false
   },
   "outputs": [],
   "source": [
    "import copy\n",
    "\n",
    "resultP = []\n",
    "resultPi = []\n",
    "P_plus_item = []\n",
    "P = [(0,0)]\n",
    "resultP.append(P) # add solution (0,0)\n",
    "\n",
    "for item in range(number_of_items):\n",
    "    P_plus_item = copy.deepcopy(P)\n",
    "    for i, point in enumerate(P_plus_item):\n",
    "        weight, profit = point\n",
    "        P_plus_item[i] = tuple((weight + weights[item], profit + profits[item]))\n",
    "    P = P + P_plus_item\n",
    "    resultP.append(P)\n",
    "    resultPi.append(P_plus_item)\n",
    "\n",
    "resultP = [sorted(i) for i in resultP]\n",
    "resultPi = [sorted(i) for i in resultPi]"
   ]
  },
  {
   "cell_type": "markdown",
   "metadata": {},
   "source": [
    "# Plot Q\n",
    "\n",
    "We are going to plot Q, specifically sets $P_{i-1}$ and $P_{i-1}^{+i}$\n",
    "\n",
    "- Red circles represent set $P_{i-1}$\n",
    "- Green triangle represent set $P_{i-1}^{+i}$ i.e. what would happen to $P_{i-1}$ if we add item $i$ to it"
   ]
  },
  {
   "cell_type": "code",
   "execution_count": 216,
   "metadata": {
    "collapsed": false
   },
   "outputs": [
    {
     "data": {
      "image/png": "[encoded data removed]",
      "text/plain": [
       "<matplotlib.figure.Figure at 0x9a60780>"
      ]
     },
     "metadata": {},
     "output_type": "display_data"
    }
   ],
   "source": [
    "dim = {'x': 3, 'y': 2}\n",
    "f, axarr = plt.subplots(dim['x'], dim['y'], figsize=(18, 16))\n",
    "\n",
    "results_number = -1\n",
    "for i in range(dim['x']):\n",
    "    for j in range(dim['y']):\n",
    "        results_number += 1\n",
    "        if results_number < len(resultP):\n",
    "            x, y = zip(*resultP[results_number])\n",
    "            axarr[i, j].step(x,y, 'ro')\n",
    "            x, y = zip(*resultPi[results_number])\n",
    "            axarr[i, j].step(x,y, 'g^')\n",
    "            axarr[i, j].set_title('item ' + str(results_number + 1))\n",
    "            axarr[i, j].set_xlabel('profit')\n",
    "            axarr[i, j].set_xlabel('weight')\n",
    "\n",
    "plt.show()\n",
    "f.subplots_adjust(hspace=0.5)"
   ]
  },
  {
   "cell_type": "markdown",
   "metadata": {},
   "source": [
    "# Pareto optimal\n",
    "\n",
    "Now we have to understand what it means for a solution to be pareto optimal.\n",
    "\n",
    "Defintion: a solution $y$ is called *dominated* if $\\exists$ solution $x$ for which \n",
    "\n",
    "- $wx \\leq wy$\n",
    "- $px \\geq py$\n",
    "\n",
    "And at least one of these inequalities is strict\n",
    "\n",
    "Definition: a solution x is called *pareto optimal* if it is not dominated by any other solution"
   ]
  },
  {
   "cell_type": "markdown",
   "metadata": {},
   "source": [
    "# Calculate set Q = P union Pi (sorted in non-decreasing order)"
   ]
  },
  {
   "cell_type": "code",
   "execution_count": null,
   "metadata": {
    "collapsed": false
   },
   "outputs": [],
   "source": [
    "def find_pareto_optimal_solutions(feasible_solutions):\n",
    "    \"\"\"\n",
    "    given a list of feasible solutions\n",
    "    return a list of pareto optimal solutions\n",
    "    \"\"\"\n",
    "    assert isinstance(feasible_solutions, list)\n",
    "    pareto_optimal = list()\n",
    "    pareto_optimal.append(feasible_solutions[0])\n",
    "    \n",
    "    _, max_profit = feasible_solutions[0]\n",
    "    for sol in feasible_solutions[1:]:\n",
    "        weight, profit = sol\n",
    "        if profit > max_profit:\n",
    "            max_profit = profit\n",
    "            if pareto_optimal[-1][0] == weight: # weight of last element added\n",
    "                del pareto_optimal[-1]\n",
    "            pareto_optimal.append(sol)\n",
    "    return pareto_optimal"
   ]
  },
  {
   "cell_type": "code",
   "execution_count": null,
   "metadata": {
    "collapsed": false
   },
   "outputs": [],
   "source": [
    "import unittest\n",
    "tc = unittest.TestCase('__init__')\n",
    "\n",
    "# test cases\n",
    "# notation: (weight, profit)\n",
    "lead = [(0,0)]\n",
    "gold = [(0,0)]\n",
    "tc.assertEqual(find_pareto_optimal_solutions(lead), gold)\n",
    "\n",
    "lead = [(0, 0), (5, 10)]\n",
    "gold = [(0, 0), (5, 10)]\n",
    "tc.assertEqual(find_pareto_optimal_solutions(lead), gold)\n",
    "\n",
    "lead = [(15, 70), (16, 45), (17, 72)]\n",
    "gold = [(15, 70), (17, 72)]\n",
    "tc.assertEqual(find_pareto_optimal_solutions(lead), gold)\n",
    "\n",
    "lead = [(5, 50), (7, 25), (7, 52), (9, 27)]\n",
    "gold = [(5, 50), (7, 52)]\n",
    "tc.assertEqual(find_pareto_optimal_solutions(lead), gold)\n",
    "\n",
    "lead = [(5, 10), (7, 12), (7, 25)]\n",
    "gold = [(5, 10), (7, 25)]\n",
    "tc.assertEqual(find_pareto_optimal_solutions(lead), gold)"
   ]
  },
  {
   "cell_type": "code",
   "execution_count": null,
   "metadata": {
    "collapsed": false
   },
   "outputs": [],
   "source": [
    "import heapq\n",
    "\n",
    "pareto_optimal_points = list()\n",
    "P_i_minus_one = list()\n",
    "P_i_minus_one_plus_i = ()\n",
    "for p, pi in zip(resultP, resultPi):\n",
    "    m = list(heapq.merge(p, pi))\n",
    "    s = find_pareto_optimal_solutions(m)\n",
    "    pareto_optimal_points.append(s)"
   ]
  },
  {
   "cell_type": "code",
   "execution_count": null,
   "metadata": {
    "collapsed": false
   },
   "outputs": [],
   "source": [
    "dim = {'x': 6, 'y': 2}\n",
    "f, axarr = plt.subplots(dim['x'], dim['y'], figsize=(18, 16))\n",
    "\n",
    "\n",
    "for i in range(dim['x']):\n",
    "    \n",
    "    x, y = zip(*pareto_optimal_points[i])\n",
    "    axarr[i, 1].plot(x,y, ls='steps--', ms=14)\n",
    "    \n",
    "    x, y = zip(*resultP[i])\n",
    "    axarr[i, 0].step(x,y, 'ro')\n",
    "    axarr[i, 1].plot(x,y, 'ro')\n",
    "    \n",
    "    x, y = zip(*resultPi[i])\n",
    "    axarr[i, 0].step(x,y, 'g^')\n",
    "    axarr[i, 1].plot(x,y, 'g^')\n",
    "    \n",
    "    \n",
    "    axarr[i, 0].set_title('item ' + str(i + 1))\n",
    "\n",
    "plt.show()\n",
    "f.subplots_adjust(hspace=15)"
   ]
  },
  {
   "cell_type": "code",
   "execution_count": 224,
   "metadata": {
    "collapsed": false
   },
   "outputs": [
    {
     "data": {
      "text/plain": [
       "(9, 90)"
      ]
     },
     "execution_count": 224,
     "metadata": {},
     "output_type": "execute_result"
    }
   ],
   "source": [
    "vector = '10101'\n",
    "profits = [1,2,3,4,5]\n",
    "weights = [10,20,30,40,50]\n",
    "\n",
    "p = sum([int(a) * b for a, b in zip(vector, profits)])\n",
    "w = sum([int(a) * b for a, b in zip(vector, weights)])\n",
    "(p, w)"
   ]
  },
  {
   "cell_type": "code",
   "execution_count": null,
   "metadata": {
    "collapsed": true
   },
   "outputs": [],
   "source": []
  }
 ],
 "metadata": {
  "kernelspec": {
   "display_name": "Python 2",
   "language": "python",
   "name": "python2"
  },
  "language_info": {
   "codemirror_mode": {
    "name": "ipython",
    "version": 2
   },
   "file_extension": ".py",
   "mimetype": "text/x-python",
   "name": "python",
   "nbconvert_exporter": "python",
   "pygments_lexer": "ipython2",
   "version": "2.7.12"
  }
 },
 "nbformat": 4,
 "nbformat_minor": 0
}
